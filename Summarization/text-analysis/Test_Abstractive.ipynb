{
 "cells": [
  {
   "cell_type": "code",
   "execution_count": null,
   "metadata": {},
   "outputs": [],
   "source": [
    "# Requires: Python >=3.7\n",
    "# Restart your kernal after installing\n",
    "# documentation is here: https://learn.microsoft.com/en-us/python/api/overview/azure/ai-textanalytics-readme?view=azure-python&viewFallbackFrom=azure-python-preview&preserve-view=true\n",
    "# sample code is here: https://github.com/Azure/azure-sdk-for-python/blob/azure-ai-textanalytics_5.3.0/sdk/textanalytics/azure-ai-textanalytics/samples/sample_abstract_summary.py   (used below)\n",
    "%pip install azure-ai-textanalytics==5.3.0 "
   ]
  },
  {
   "cell_type": "code",
   "execution_count": 1,
   "metadata": {},
   "outputs": [
    {
     "name": "stdout",
     "output_type": "stream",
     "text": [
      "Summaries abstracted:\n",
      "Microsoft is working towards advancing AI through a holistic, human-centric approach. The Chief Technology Officer of Azure AI Cognitive Services, who has a unique perspective on human cognition, is working with a team to develop a joint representation called XYZ-code. This code, which combines text, audio or visual sensory signals, and multilinguality, is being used to create more powerful AI that can better understand humans. The goal is to have pretrained models that can jointly learn representations to support a broad range of AI tasks, similar to how humans learn and understand. Over the past five years, Microsoft has achieved human performance on benchmarks in conversational speech recognition, machine translation, conversational question answering, machine reading comprehension, and image captioning.\n",
      "\n"
     ]
    }
   ],
   "source": [
    "import os\n",
    "from azure.core.credentials import AzureKeyCredential\n",
    "from azure.ai.textanalytics import TextAnalyticsClient\n",
    "from dotenv import load_dotenv \n",
    "load_dotenv()\n",
    "key = os.environ.get('LANGUAGE_KEY')\n",
    "endpoint = os.environ.get('LANGUAGE_ENDPOINT')\n",
    "\n",
    "text_analytics_client = TextAnalyticsClient(\n",
    "    endpoint=endpoint,\n",
    "    credential=AzureKeyCredential(key),\n",
    ")\n",
    "\n",
    "document = [\n",
    "    \"At Microsoft, we have been on a quest to advance AI beyond existing techniques, by taking a more holistic, \"\n",
    "    \"human-centric approach to learning and understanding. As Chief Technology Officer of Azure AI Cognitive \"\n",
    "    \"Services, I have been working with a team of amazing scientists and engineers to turn this quest into a \"\n",
    "    \"reality. In my role, I enjoy a unique perspective in viewing the relationship among three attributes of \"\n",
    "    \"human cognition: monolingual text (X), audio or visual sensory signals, (Y) and multilingual (Z). At the \"\n",
    "    \"intersection of all three, there's magic-what we call XYZ-code as illustrated in Figure 1-a joint \"\n",
    "    \"representation to create more powerful AI that can speak, hear, see, and understand humans better. \"\n",
    "    \"We believe XYZ-code will enable us to fulfill our long-term vision: cross-domain transfer learning, \"\n",
    "    \"spanning modalities and languages. The goal is to have pretrained models that can jointly learn \"\n",
    "    \"representations to support a broad range of downstream AI tasks, much in the way humans do today. \"\n",
    "    \"Over the past five years, we have achieved human performance on benchmarks in conversational speech \"\n",
    "    \"recognition, machine translation, conversational question answering, machine reading comprehension, \"\n",
    "    \"and image captioning. These five breakthroughs provided us with strong signals toward our more ambitious \"\n",
    "    \"aspiration to produce a leap in AI capabilities, achieving multisensory and multilingual learning that \"\n",
    "    \"is closer in line with how humans learn and understand. I believe the joint XYZ-code is a foundational \"\n",
    "    \"component of this aspiration, if grounded with external knowledge sources in the downstream AI tasks.\"\n",
    "]\n",
    "\n",
    "poller = text_analytics_client.begin_abstract_summary(document, )\n",
    "#\n",
    "abstract_summary_results = poller.result()\n",
    "for result in abstract_summary_results:\n",
    "    if result.kind == \"AbstractiveSummarization\":\n",
    "        print(\"Summaries abstracted:\")\n",
    "        [print(f\"{summary.text}\\n\") for summary in result.summaries]\n",
    "    elif result.is_error is True:\n",
    "        print(\"...Is an error with code '{}' and message '{}'\".format(\n",
    "            result.error.code, result.error.message\n",
    "        ))"
   ]
  }
 ],
 "metadata": {
  "kernelspec": {
   "display_name": "py3.9.16",
   "language": "python",
   "name": "python3"
  },
  "language_info": {
   "codemirror_mode": {
    "name": "ipython",
    "version": 3
   },
   "file_extension": ".py",
   "mimetype": "text/x-python",
   "name": "python",
   "nbconvert_exporter": "python",
   "pygments_lexer": "ipython3",
   "version": "3.9.16"
  }
 },
 "nbformat": 4,
 "nbformat_minor": 2
}
